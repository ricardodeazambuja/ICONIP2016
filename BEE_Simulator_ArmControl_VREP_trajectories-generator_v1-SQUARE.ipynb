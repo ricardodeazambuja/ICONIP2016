{
 "cells": [
  {
   "cell_type": "markdown",
   "metadata": {},
   "source": [
    "# This notebook connects to V-REP to read the joint angles from Baxter\n",
    "\n",
    "# SQUARE\n",
    "\n",
    "## Baxter arm specifications:\n",
    "http://sdk.rethinkrobotics.com/wiki/Hardware_Specifications#Baxter_Arm_Specifications"
   ]
  },
  {
   "cell_type": "code",
   "execution_count": 3,
   "metadata": {
    "collapsed": false
   },
   "outputs": [],
   "source": [
    "import vrep\n",
    "import numpy\n",
    "import time\n",
    "import sys\n",
    "import subprocess\n",
    "import save_load_file as slf\n",
    "\n",
    "%matplotlib inline\n",
    "import matplotlib.pyplot as plt"
   ]
  },
  {
   "cell_type": "code",
   "execution_count": 4,
   "metadata": {
    "collapsed": true
   },
   "outputs": [],
   "source": [
    "#\n",
    "# Controls if the results are saved to a file\n",
    "#\n",
    "\n",
    "save2file = False"
   ]
  },
  {
   "cell_type": "code",
   "execution_count": null,
   "metadata": {
    "collapsed": true
   },
   "outputs": [],
   "source": [
    "# Location of the V-REP simulator main file:\n",
    "vrep_location = \"/Applications/V-REP_PRO_EDU_V3_2_2_Mac/vrep.app/Contents/MacOS/vrep\""
   ]
  },
  {
   "cell_type": "code",
   "execution_count": 7,
   "metadata": {
    "collapsed": false
   },
   "outputs": [],
   "source": [
    "# %load movement_generation_training.py\n",
    "\n",
    "# Generates the movements according to:\n",
    "# Flash, Tamar and Neville Hogan. 1985. The Coordination of Arm Movements: An Experimentally Confirmed \n",
    "# Mathematical Model. The Journal of Neuroscience 5 (7): 1688-1703\n",
    "def movement_generation_training(xstart,xdest,MT,t):\n",
    "    '''\n",
    "    xstart,ystart: initial position of the trajectory\n",
    "    MT: total time spent doing the trajectory\n",
    "    t: current time\n",
    "    \n",
    "    returns a matrix: [[x0,y0],[x1,y1],...]\n",
    "    '''\n",
    "    x_t=xstart+(xstart-xdest)*(15*(t/MT)**4-6*(t/MT)**5-10*(t/MT)**3)\n",
    "    return numpy.array(x_t)"
   ]
  },
  {
   "cell_type": "code",
   "execution_count": 8,
   "metadata": {
    "collapsed": true
   },
   "outputs": [],
   "source": [
    "sim_set = \"square\" # basically is the name of the folder where the data is read/saved\n",
    "base_dir = \"BaxterArm_VREP_simulation_data\""
   ]
  },
  {
   "cell_type": "code",
   "execution_count": 9,
   "metadata": {
    "collapsed": false
   },
   "outputs": [],
   "source": [
    "MT=0.5 # The SQUARE is made of four straight lines (0.5s x 4 = 2s)\n",
    "time_step=2E-3\n",
    "t_mov=numpy.arange(0, MT, time_step) # t starts in 0s and steps time_step(s) until reaches MT(s)"
   ]
  },
  {
   "cell_type": "code",
   "execution_count": 10,
   "metadata": {
    "collapsed": false
   },
   "outputs": [],
   "source": [
    "# Square\n",
    "trajectories = [[[-0.5,-0.5],[0.5,-0.5]],\\\n",
    "                [[0.5,-0.5],[0.5,0.5]],\\\n",
    "                [[0.5,0.5],[-0.5,0.5]],\\\n",
    "                [[-0.5,0.5],[-0.5,-0.5]]]\n",
    "\n",
    "orig_trajectories = numpy.array(trajectories)\n",
    "\n",
    "trajectories = numpy.array(trajectories)"
   ]
  },
  {
   "cell_type": "code",
   "execution_count": 11,
   "metadata": {
    "collapsed": true
   },
   "outputs": [],
   "source": [
    "# Creates an empty matrix to store the points\n",
    "XY_movement = numpy.zeros((0,2))\n",
    "\n",
    "for tji in range(4):\n",
    "\n",
    "    xstart=trajectories[tji][0][0]\n",
    "    ystart=trajectories[tji][0][1]\n",
    "    xdest=trajectories[tji][1][0]\n",
    "    ydest=trajectories[tji][1][1]\n",
    "\n",
    "    x_movement = movement_generation_training(xstart,xdest,MT,t_mov)\n",
    "    y_movement = movement_generation_training(ystart,ydest,MT,t_mov)\n",
    "    \n",
    "    XY_movement_temp = numpy.zeros((len(t_mov),2))\n",
    "\n",
    "    XY_movement_temp[:,0]=x_movement\n",
    "    XY_movement_temp[:,1]=y_movement\n",
    "\n",
    "    # Concatenates all the lines to make a square\n",
    "    XY_movement=numpy.concatenate((XY_movement,numpy.round(XY_movement_temp/6.0,4)))"
   ]
  },
  {
   "cell_type": "code",
   "execution_count": 12,
   "metadata": {
    "collapsed": false,
    "scrolled": false
   },
   "outputs": [
    {
     "data": {
      "image/png": "[encoded data removed]",
      "text/plain": [
       "<matplotlib.figure.Figure at 0x10bc94150>"
      ]
     },
     "metadata": {},
     "output_type": "display_data"
    }
   ],
   "source": [
    "tji_orig = 0\n",
    "plt.figure(figsize =(10,10))\n",
    "plt.plot(XY_movement[:,0],XY_movement[:,1])\n",
    "plt.plot([XY_movement[0,0]],[XY_movement[0,1]],'go')\n",
    "plt.plot([XY_movement[-1,0]],[XY_movement[-1,1]],'ro')\n",
    "# plt.xlim(-1,1)\n",
    "# plt.ylim(-1,1)\n",
    "plt.title(\"Cartesian Movement\")\n",
    "plt.show()"
   ]
  },
  {
   "cell_type": "code",
   "execution_count": 13,
   "metadata": {
    "collapsed": false
   },
   "outputs": [],
   "source": [
    "#\n",
    "# Saves the original values to a file\n",
    "# \n",
    "\n",
    "if save2file:\n",
    "    slf.save_to_file(XY_movement,base_dir+\"/\"+sim_set+\"/\"+sim_set+\".pickle\")"
   ]
  },
  {
   "cell_type": "code",
   "execution_count": null,
   "metadata": {
    "collapsed": false
   },
   "outputs": [],
   "source": [
    "# %load vrep_training.py\n",
    "\n",
    "import os\n",
    "\n",
    "p = None\n",
    "\n",
    "# To automate the process is necessary to avoid the firewall message by deactivating it!!!!\n",
    "\n",
    "\n",
    "p = subprocess.Popen([vrep_location, '-h', '-s', '-q', \\\n",
    "                      os.getcwd()+'/VREP_scenes/Baxter_IK_felt_pen_pick-and-place_learning_IROS2016.ttt'])  \n",
    "\n",
    "time.sleep(1.0)\n",
    "\n",
    "# Object names (used inside the simulation)\n",
    "# They are used to retrieve the object handles\n",
    "s0_name = 'Baxter_leftArm_joint1'\n",
    "s1_name = 'Baxter_leftArm_joint2'\n",
    "e0_name = 'Baxter_leftArm_joint3'\n",
    "e1_name = 'Baxter_leftArm_joint4'\n",
    "w0_name = 'Baxter_leftArm_joint5'\n",
    "w1_name = 'Baxter_leftArm_joint6'\n",
    "w2_name = 'Baxter_leftArm_joint7'\n",
    "XY_pos = 'IK_XY_MASTER' # Controls the cartesian X,Y values (pen)\n",
    "Z_pos = 'IK_Z_MASTER' # Controls the cartesian Z value (pen)\n",
    "\n",
    "# simxPauseCommunication(clientID,1);\n",
    "# simxSetJointPosition(clientID,joint1Handle,joint1Value,simx_opmode_oneshot);\n",
    "# simxSetJointPosition(clientID,joint2Handle,joint2Value,simx_opmode_oneshot);\n",
    "# simxSetJointPosition(clientID,joint3Handle,joint3Value,simx_opmode_oneshot);\n",
    "# simxPauseCommunication(clientID,0);\n",
    "# Above's 3 joints will be received and set on the V-REP side at the same time\n",
    "\n",
    "print 'Program started'\n",
    "vrep.simxFinish(-1) # just in case, close all opened connections\n",
    "\n",
    "# Connects to the simulator\n",
    "clientID=vrep.simxStart('127.0.0.1',19999,True,True,5000,5)\n",
    "\n",
    "if clientID!=-1:\n",
    "    print 'Connected to remote API server'\n",
    "    res,objs=vrep.simxGetObjects(clientID,vrep.sim_handle_all,vrep.simx_opmode_oneshot_wait) # gets ALL object handles\n",
    "    if res==vrep.simx_return_ok:\n",
    "        print 'Number of objects in the scene: ',len(objs)\n",
    "        res0,XY=vrep.simxGetObjectHandle(clientID,XY_pos,vrep.simx_opmode_oneshot_wait) # gets specifically the handle for the IK_XY_MASTER\n",
    "        res1,Z=vrep.simxGetObjectHandle(clientID,Z_pos,vrep.simx_opmode_oneshot_wait) # gets specifically the handle for the IK_Z_MASTER\n",
    "        \n",
    "        res2,s0=vrep.simxGetObjectHandle(clientID,s0_name,vrep.simx_opmode_oneshot_wait) # gets specifically the handle for the s0 joint\n",
    "        res3,s1=vrep.simxGetObjectHandle(clientID,s1_name,vrep.simx_opmode_oneshot_wait) # gets specifically the handle for the s1 joint\n",
    "#         resX,e0=vrep.simxGetObjectHandle(clientID,e0_name,vrep.simx_opmode_oneshot_wait) # gets specifically the handle for the e0 joint\n",
    "        res4,e1=vrep.simxGetObjectHandle(clientID,e1_name,vrep.simx_opmode_oneshot_wait) # gets specifically the handle for the e1 joint\n",
    "#         resX,w0=vrep.simxGetObjectHandle(clientID,w0_name,vrep.simx_opmode_oneshot_wait) # gets specifically the handle for the w0 joint\n",
    "        res5,w1=vrep.simxGetObjectHandle(clientID,w1_name,vrep.simx_opmode_oneshot_wait) # gets specifically the handle for the w1 joint\n",
    "#         resX,w2=vrep.simxGetObjectHandle(clientID,w2_name,vrep.simx_opmode_oneshot_wait) # gets specifically the handle for the w2 joint\n",
    "\n",
    "        if (res1*res2*res3*res4*res5)==vrep.simx_return_ok:\n",
    "            print \"Ok, I'm in!\"\n",
    "\n",
    "            joint_list = [s0,s1,e1,w1]\n",
    "            joint_positions = []\n",
    "\n",
    "            #\n",
    "            # These are the equivalent to X,Y,Z = 0,0,0 in my system:\n",
    "            #\n",
    "            \n",
    "            # Reads the current XY_Master position [X,Y]\n",
    "            print \"Reads the current XY_Master position [X,Y]\"\n",
    "            res,posXY=vrep.simxGetObjectPosition(clientID,XY,vrep.sim_handle_parent,vrep.simx_opmode_oneshot_wait)\n",
    "            time.sleep(0.5)\n",
    "            \n",
    "            # Reads the current Z_Master position [Z]\n",
    "            print \"Reads the current Z_Master position [Z]\"\n",
    "            res,posZ=vrep.simxGetObjectPosition(clientID,Z,vrep.sim_handle_parent,vrep.simx_opmode_oneshot_wait)            \n",
    "            time.sleep(0.5)\n",
    "            \n",
    "            print \"Initial XY Master Position\", posXY\n",
    "            print \"Initial Z Master Position\", posZ\n",
    "\n",
    "\n",
    "            # Lifts the pen to position it in the trajectory's starting point\n",
    "            # This is acomplished by increasing the Z value (posZ[2])\n",
    "            print \"Lifts the pen to position it in the trajectory's starting point\"\n",
    "            # I need a smooth movements, otherwise the pen touches the table by mistake.\n",
    "            for k in range(2):\n",
    "                res = vrep.simxSetObjectPosition(clientID,Z,vrep.sim_handle_parent,[posZ[0], posZ[1], posZ[2]+0.001*(k+1)],vrep.simx_opmode_oneshot_wait)\n",
    "                time.sleep(0.5)\n",
    "                        \n",
    "            # Moves to the first position\n",
    "            # This movement is relative to the current XY position!!!\n",
    "            print \"Moves to the first position\"\n",
    "            res = vrep.simxSetObjectPosition(clientID,XY,vrep.sim_handle_parent,[posXY[0]+XY_movement[0,0], posXY[1]+XY_movement[0,1], posXY[2]],vrep.simx_opmode_oneshot_wait)\n",
    "            time.sleep(0.5)\n",
    "            \n",
    "            \n",
    "            # Puts down the pen\n",
    "            print \"Puts down the pen\"\n",
    "            # I need smooth movements, otherwise the pen touches the table by mistake.\n",
    "            # Reads the current Z_Master position [Z]\n",
    "            res,posZcurrent=vrep.simxGetObjectPosition(clientID,Z,vrep.sim_handle_parent,vrep.simx_opmode_oneshot_wait)            \n",
    "            time.sleep(0.5)\n",
    "            for k in range(2):\n",
    "                res = vrep.simxSetObjectPosition(clientID,Z,vrep.sim_handle_parent,[posZcurrent[0], posZcurrent[1], posZcurrent[2]-0.001*(k+1)],vrep.simx_opmode_oneshot_wait)\n",
    "                time.sleep(0.5)            \n",
    "            \n",
    "            if res!=0:\n",
    "                vrep.simxFinish(clientID)\n",
    "                print 'Remote API function call returned with error code (start-up): ',res\n",
    "          \n",
    "            # Reads the current XY_Master position [X,Y]\n",
    "            print \"Reads the current XY_Master position [X,Y]\"\n",
    "            res,posXYcurrent=vrep.simxGetObjectPosition(clientID,XY,vrep.sim_handle_parent,vrep.simx_opmode_oneshot_wait)\n",
    "            time.sleep(0.5)\n",
    "            \n",
    "            # Reads the current Z_Master position [Z]\n",
    "            print \"Reads the current Z_Master position [Z]\"\n",
    "            res,posZcurrent=vrep.simxGetObjectPosition(clientID,Z,vrep.sim_handle_parent,vrep.simx_opmode_oneshot_wait)            \n",
    "            time.sleep(0.5)            \n",
    "\n",
    "            print \"XY Master Position:\", posXYcurrent\n",
    "            print \"Z Master Position:\", posZcurrent\n",
    "            \n",
    "            \n",
    "            i = 0\n",
    "            for hi in XY_movement:\n",
    "                # Reads and saves the current joint positions\n",
    "                temp = []\n",
    "                for ji in joint_list:\n",
    "                    res,joint_pos=vrep.simxGetJointPosition(clientID,ji,vrep.simx_opmode_oneshot_wait)\n",
    "                    temp.append(joint_pos)\n",
    "                    time.sleep(0.0025)\n",
    "                joint_positions.append(temp)\n",
    "                \n",
    "                if i==0:\n",
    "                    if save2file:\n",
    "                        numpy.save(base_dir+\"/\"+sim_set+\"/starting_joint_pos.npy\",numpy.array(temp))                \n",
    "\n",
    "                cmd_pos = numpy.array(posXY)+numpy.concatenate([hi,[0]]) # Sums X and Y in the pos and [hi[0],hi[1],0] arrays\n",
    "\n",
    "                i+=1\n",
    "                # Sets the new position\n",
    "                res = vrep.simxSetObjectPosition(clientID,XY,vrep.sim_handle_parent,cmd_pos,vrep.simx_opmode_oneshot_wait)\n",
    "                time.sleep(0.0025) # 0.05 here was generating too many time-out errors!                \n",
    "                \n",
    "                if res!=0:\n",
    "                    vrep.simxFinish(clientID)\n",
    "                    print 'Remote API function call returned with error code (main loop): ',res\n",
    "                    break\n",
    "            \n",
    "\n",
    "            # Lifts the pen to position it in the trajectory's starting point\n",
    "            # I need a smooth movements, otherwise the pen touches the table by mistake.\n",
    "            # Reads the current Z_Master position [Z]\n",
    "            res,posZcurrent=vrep.simxGetObjectPosition(clientID,Z,vrep.sim_handle_parent,vrep.simx_opmode_oneshot_wait)            \n",
    "            time.sleep(0.5)            \n",
    "        \n",
    "            for k in range(2):\n",
    "                res = vrep.simxSetObjectPosition(clientID,Z,vrep.sim_handle_parent,[posZcurrent[0], posZcurrent[1], posZcurrent[2]+0.001*(k+1)],vrep.simx_opmode_oneshot_wait)\n",
    "                time.sleep(0.5)            \n",
    "\n",
    "            \n",
    "            # Moves it back to the first position\n",
    "            res = vrep.simxSetObjectPosition(clientID,XY,vrep.sim_handle_parent,posXY,vrep.simx_opmode_oneshot_wait)\n",
    "            time.sleep(0.5)\n",
    "            \n",
    "            # Puts down the pen\n",
    "            # I need a smooth movements, otherwise the pen touches the table by mistake.\n",
    "            # Reads the current Z_Master position [Z]\n",
    "            res,posZcurrent=vrep.simxGetObjectPosition(clientID,Z,vrep.sim_handle_parent,vrep.simx_opmode_oneshot_wait)            \n",
    "            time.sleep(0.5)\n",
    "            for k in range(2):\n",
    "                res = vrep.simxSetObjectPosition(clientID,Z,vrep.sim_handle_parent,[posZcurrent[0], posZcurrent[1], posZcurrent[2]-0.001*(k+1)],vrep.simx_opmode_oneshot_wait)\n",
    "                time.sleep(0.5)      \n",
    "                \n",
    "            if res!=0:\n",
    "                vrep.simxFinish(clientID)\n",
    "                print 'Remote API function call returned with error code (last position): ',res\n",
    "                \n",
    "        else:\n",
    "            print 'Remote API function call returned with error code (object handles): ',res\n",
    "    else:\n",
    "        print 'Remote API function call returned with error code (first connection): ',res\n",
    "#     returncode=vrep.simxStopSimulation(clientID,vrep.simx_opmode_oneshot_wait)\n",
    "    vrep.simxFinish(clientID)\n",
    "else:\n",
    "    print 'Failed connecting to remote API server'\n",
    "print 'Program ended'\n",
    "\n",
    "if p:\n",
    "    # Terminates the process, in the case the connection above failed.\n",
    "    p.terminate()"
   ]
  },
  {
   "cell_type": "code",
   "execution_count": 16,
   "metadata": {
    "collapsed": false,
    "scrolled": false
   },
   "outputs": [],
   "source": [
    "joint_positions = numpy.array(joint_positions)"
   ]
  },
  {
   "cell_type": "code",
   "execution_count": 17,
   "metadata": {
    "collapsed": false
   },
   "outputs": [
    {
     "data": {
      "text/plain": [
       "(1000, 4)"
      ]
     },
     "execution_count": 17,
     "metadata": {},
     "output_type": "execute_result"
    }
   ],
   "source": [
    "joint_positions.shape"
   ]
  },
  {
   "cell_type": "code",
   "execution_count": 18,
   "metadata": {
    "collapsed": false
   },
   "outputs": [
    {
     "data": {
      "image/png": "[encoded data removed]",
      "text/plain": [
       "<matplotlib.figure.Figure at 0x10bce8510>"
      ]
     },
     "metadata": {},
     "output_type": "display_data"
    }
   ],
   "source": [
    "fig=plt.figure(figsize =(15,15));\n",
    "\n",
    "plt.subplot(7,1,1)\n",
    "plt.plot(XY_movement[:,0],XY_movement[:,1])\n",
    "plt.title(\"X and Y\")\n",
    "\n",
    "plt.subplot(7,1,2)\n",
    "plt.plot(XY_movement[:,0])\n",
    "plt.xlim(0,len(XY_movement))\n",
    "plt.title(\"Only X\")\n",
    "\n",
    "plt.subplot(7,1,3)\n",
    "plt.plot(XY_movement[:,1])\n",
    "plt.xlim(0,len(XY_movement))\n",
    "plt.title(\"Only Y\")\n",
    "\n",
    "plt.subplot(7,1,4)\n",
    "plt.plot(joint_positions[:,0])\n",
    "plt.xlim(0,len(joint_positions))\n",
    "plt.title(\"Joint s0\")\n",
    "\n",
    "plt.subplot(7,1,5)\n",
    "plt.plot(joint_positions[:,1])\n",
    "plt.xlim(0,len(joint_positions))\n",
    "plt.title(\"Joint s1\")\n",
    "\n",
    "plt.subplot(7,1,6)\n",
    "plt.plot(joint_positions[:,2])\n",
    "plt.xlim(0,len(joint_positions))\n",
    "plt.title(\"Joint e1\")\n",
    "\n",
    "plt.subplot(7,1,7)\n",
    "plt.plot(joint_positions[:,3])\n",
    "plt.xlim(0,len(joint_positions))\n",
    "plt.title(\"Joint w1\")\n",
    "\n",
    "plt.show()"
   ]
  },
  {
   "cell_type": "code",
   "execution_count": 24,
   "metadata": {
    "collapsed": false
   },
   "outputs": [],
   "source": [
    "#\n",
    "# Only here the points are saved to a file\n",
    "#\n",
    "\n",
    "if save2file:\n",
    "    numpy.save(base_dir+\"/\"+sim_set+\"/XY_movement_\"+sim_set+\".npy\",joint_positions)"
   ]
  },
  {
   "cell_type": "code",
   "execution_count": null,
   "metadata": {
    "collapsed": true
   },
   "outputs": [],
   "source": []
  }
 ],
 "metadata": {
  "kernelspec": {
   "display_name": "Python 2",
   "language": "python",
   "name": "python2"
  },
  "language_info": {
   "codemirror_mode": {
    "name": "ipython",
    "version": 2
   },
   "file_extension": ".py",
   "mimetype": "text/x-python",
   "name": "python",
   "nbconvert_exporter": "python",
   "pygments_lexer": "ipython2",
   "version": "2.7.11"
  }
 },
 "nbformat": 4,
 "nbformat_minor": 0
}
